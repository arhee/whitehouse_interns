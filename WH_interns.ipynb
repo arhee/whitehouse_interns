{
 "cells": [
  {
   "cell_type": "markdown",
   "metadata": {},
   "source": [
    "# White House Interns: Demographics"
   ]
  },
  {
   "cell_type": "markdown",
   "metadata": {},
   "source": [
    "### Summary"
   ]
  },
  {
   "cell_type": "markdown",
   "metadata": {},
   "source": [
    "<ul>\n",
    "<li>Overall intern gender ratio is 50:50</li>\n",
    "<li>College ranking matters.  For the top 40 colleges, ranking is positively correlated with more internships</li>\n",
    "<li>College location matters.  College proximity to Washington DC is positively correlated with more internships</li>\n",
    "<li>From the 2013 summer cohort, 7% of interns went on to serve at the White House</li>\n",
    "</ul>"
   ]
  },
  {
   "cell_type": "markdown",
   "metadata": {},
   "source": [
    "### Introduction"
   ]
  },
  {
   "cell_type": "markdown",
   "metadata": {},
   "source": [
    "This short analysis of the White House intern demographics originated as a spinout from my <a href='http://nbviewer.ipython.org/github/arhee/whitehouse/blob/master/python/Mockup.ipynb'>original analysis</a> of the gender differences of the White House staff.\n",
    "\n",
    "<b>Data</b>\n",
    "<ul>\n",
    "<li>3 sets of White House intern data: <a href='https://www.washingtonpost.com/news/reliable-source/wp/2013/07/12/full-list-of-white-house-summer-interns-for-2013/'>summer 2013</a>, <a href='http://newsin15.blogspot.com/2015/02/white-house-internship-program.html'>spring 2015</a>, <a href='http://www.insideindianabusiness.com/newsitem.asp?ID=69459'>summer 2015</a>.</li>\n",
    "<li>Scraped 2015 US News college rankings available <a href='https://github.com/Shengjiezh/Scraping-USNews-College-Ranking/blob/master/ranking_university_USnews.csv'>here</a> </li>\n",
    "<li>2008 college enrollment statistics available <a href='http://www.census.gov/compendia/statab/2012/tables/12s0280.xls\n",
    "12s0280.xls'>here</a></li>\n",
    "<li>2009-2015 White House employment records available <a href='https://www.whitehouse.gov/21stcenturygov/tools/salaries'> here </a>\n",
    "</ul>\n",
    "\n",
    "<b>Process</b>\n",
    "<ul>\n",
    "<li>Cleaned and processed data with Python</li>\n",
    "<li>Visualizations done in R</li>\n",
    "</ul>\n"
   ]
  },
  {
   "cell_type": "markdown",
   "metadata": {},
   "source": [
    "### Gender Composition"
   ]
  },
  {
   "cell_type": "markdown",
   "metadata": {},
   "source": [
    "In aggregate the male:female ratio is roughly 50:50.  However, the gender composition swings back and forth.  It is unclear if it is random chance or deliberate intent.  The 50:50 ratio is in contrast with the <a href='https://github.com/arhee/whitehouse/blob/master/python/Mockup.ipynb'>White House Employee gender ratio</a> which is closer to 40:60 male:female."
   ]
  },
  {
   "cell_type": "markdown",
   "metadata": {
    "collapsed": true
   },
   "source": [
    "<img src='../figs/intern_gender_hist.png'>"
   ]
  },
  {
   "cell_type": "markdown",
   "metadata": {
    "collapsed": true
   },
   "source": [
    "### School ranking affects number of internships"
   ]
  },
  {
   "cell_type": "markdown",
   "metadata": {},
   "source": [
    "By plotting the number of White House interns vs. the US News college rankings, we observe that there is a  positive correlation between college rank and the number of internships for the first 40 schools.  This is unsurprising, as Harvard and Yale have the most internships. After the top schools, it is a long tail of schools that have sent very few students. \n",
    "\n",
    "Noticeably, there are two highly ranked technical schools that have sent no students in the three intern cohorts examined: MIT (rank 7) and Caltech (rank 10)."
   ]
  },
  {
   "cell_type": "markdown",
   "metadata": {
    "collapsed": true
   },
   "source": [
    "<img src='../figs/intern_collegerank.png'>"
   ]
  },
  {
   "cell_type": "markdown",
   "metadata": {
    "collapsed": true
   },
   "source": [
    "### College location matters"
   ]
  },
  {
   "cell_type": "markdown",
   "metadata": {
    "collapsed": true
   },
   "source": [
    "The intern representation index measures how overrepresented a state is in sending its college graduates to the White House intern program. It is the calculated difference between a state's proportion of all college graduates and the  proportion of all White House interns coming from colleges within that state.\n",
    "\n",
    "<p style=\"padding-left:5em\"><i>% of White House interns coming from State X - State X % of all college students</i>.</p>\n",
    "\n",
    "Students from DC colleges were equally partitioned into Maryland and Virginia.\n",
    "\n",
    "We find that DC colleges are overwhelmingly overrepresented second only to Massachusetts in the number of interns sent.  This follows the general trend that intern representation is positively correlated with proximity to Washington DC. Thus, Northeastern and Mid-Atlantic colleges are overrepresented while states that are geographically far with high numbers of college enrollees - California, Arizona, and Texas - are noticeably underrepresented.  \n",
    "\n",
    "Would it look different for a Republican administration?"
   ]
  },
  {
   "cell_type": "markdown",
   "metadata": {
    "collapsed": false
   },
   "source": [
    "<img src='../figs/college_state_map.png'>"
   ]
  },
  {
   "cell_type": "markdown",
   "metadata": {},
   "source": [
    "### Few interns go on to serve at the White House"
   ]
  },
  {
   "cell_type": "markdown",
   "metadata": {},
   "source": [
    "By cross-referencing the names of the interns with the White House <a href=\"https://www.whitehouse.gov/21stcenturygov/tools/salaries\">employee data</a>, we can determine which interns went on to serve in the White House.  For this analysis, we will only look at the 2013 Summer dataset, as the 2015 internships are too recent to have interns transition to full-time White House employees.\n",
    "\n",
    "We find that 10 interns or 7% have moved on to serve in the White House.  Presumably the function of the program is to expose students to the White House as the intern retention rate is lower than industry standards.  In 2014, the <a href=\"https://www.naceweb.org/uploadedFiles/Content/static-assets/downloads/executive-summary/2014-internship-co-op-survey-executive-summary.pdf\">National Association of Colleges and Employers</a> reported an intern retention rate of ~50% from companies surveyed."
   ]
  }
 ],
 "metadata": {
  "kernelspec": {
   "display_name": "Python 2",
   "language": "python",
   "name": "python2"
  },
  "language_info": {
   "codemirror_mode": {
    "name": "ipython",
    "version": 2
   },
   "file_extension": ".py",
   "mimetype": "text/x-python",
   "name": "python",
   "nbconvert_exporter": "python",
   "pygments_lexer": "ipython2",
   "version": "2.7.9"
  }
 },
 "nbformat": 4,
 "nbformat_minor": 0
}
