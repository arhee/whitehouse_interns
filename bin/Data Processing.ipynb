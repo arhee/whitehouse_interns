{
 "cells": [
  {
   "cell_type": "markdown",
   "metadata": {},
   "source": [
    "### Match US News ranking with colleges"
   ]
  },
  {
   "cell_type": "code",
   "execution_count": 3,
   "metadata": {
    "collapsed": true
   },
   "outputs": [],
   "source": [
    "import pandas as pd\n",
    "import numpy as np\n",
    "from ggplot import *\n",
    "%matplotlib inline"
   ]
  },
  {
   "cell_type": "code",
   "execution_count": 4,
   "metadata": {
    "collapsed": false
   },
   "outputs": [],
   "source": [
    "interns = pd.read_csv('../proc_data/Interns_combined.csv')\n",
    "usnews = pd.read_csv('../proc_data/ranking_university_USnews.csv', header=None)"
   ]
  },
  {
   "cell_type": "code",
   "execution_count": 5,
   "metadata": {
    "collapsed": false
   },
   "outputs": [],
   "source": [
    "v = interns.College.value_counts()"
   ]
  },
  {
   "cell_type": "code",
   "execution_count": 6,
   "metadata": {
    "collapsed": false
   },
   "outputs": [],
   "source": [
    "usnews.columns = ['Position','Rank','School','Location']"
   ]
  },
  {
   "cell_type": "code",
   "execution_count": 7,
   "metadata": {
    "collapsed": false
   },
   "outputs": [],
   "source": [
    "cols = []\n",
    "for school in v.keys():\n",
    "    if school.lower() in usnews.School.str.lower().values:\n",
    "        try:\n",
    "            cols.append(usnews[usnews.School == school].Position.values[0])\n",
    "        except:\n",
    "            cols.append(school)\n",
    "    else:\n",
    "        cols.append(school)"
   ]
  },
  {
   "cell_type": "code",
   "execution_count": 9,
   "metadata": {
    "collapsed": false
   },
   "outputs": [],
   "source": [
    "f = zip(cols, v.values)\n",
    "df = pd.DataFrame({'School':list(v.keys()), 'Rank':cols, 'Count':v.values})\n",
    "#df.to_csv('Manual_Fill_School_Rank.csv')"
   ]
  },
  {
   "cell_type": "code",
   "execution_count": 10,
   "metadata": {
    "collapsed": false
   },
   "outputs": [],
   "source": [
    "q = sorted(f, key=lambda x: x[0])\n",
    "q2 = [x for x in q if isinstance(x[0], int)]"
   ]
  },
  {
   "cell_type": "code",
   "execution_count": 11,
   "metadata": {
    "collapsed": true
   },
   "outputs": [],
   "source": [
    "x, y = zip(*q2)\n",
    "df = pd.DataFrame({'Rank':x, 'Count':y})"
   ]
  },
  {
   "cell_type": "code",
   "execution_count": 16,
   "metadata": {
    "collapsed": false
   },
   "outputs": [],
   "source": [
    "#4, 7, 10, 13, 14, 17-19\n",
    "#columbia, MIT, Caltech\n"
   ]
  },
  {
   "cell_type": "markdown",
   "metadata": {
    "collapsed": true
   },
   "source": [
    "### Clean College State data for for R"
   ]
  },
  {
   "cell_type": "code",
   "execution_count": 58,
   "metadata": {
    "collapsed": true
   },
   "outputs": [],
   "source": [
    "st_dict = {\n",
    "        'AK': 'Alaska',\n",
    "        'AL': 'Alabama',\n",
    "        'AR': 'Arkansas',\n",
    "        'AS': 'American Samoa',\n",
    "        'AZ': 'Arizona',\n",
    "        'CA': 'California',\n",
    "        'CO': 'Colorado',\n",
    "        'CT': 'Connecticut',\n",
    "        'DC': 'District of Columbia',\n",
    "        'DE': 'Delaware',\n",
    "        'FL': 'Florida',\n",
    "        'GA': 'Georgia',\n",
    "        'GU': 'Guam',\n",
    "        'HI': 'Hawaii',\n",
    "        'IA': 'Iowa',\n",
    "        'ID': 'Idaho',\n",
    "        'IL': 'Illinois',\n",
    "        'IN': 'Indiana',\n",
    "        'KS': 'Kansas',\n",
    "        'KY': 'Kentucky',\n",
    "        'LA': 'Louisiana',\n",
    "        'MA': 'Massachusetts',\n",
    "        'MD': 'Maryland',\n",
    "        'ME': 'Maine',\n",
    "        'MI': 'Michigan',\n",
    "        'MN': 'Minnesota',\n",
    "        'MO': 'Missouri',\n",
    "        'MP': 'Northern Mariana Islands',\n",
    "        'MS': 'Mississippi',\n",
    "        'MT': 'Montana',\n",
    "        'NA': 'National',\n",
    "        'NC': 'North Carolina',\n",
    "        'ND': 'North Dakota',\n",
    "        'NE': 'Nebraska',\n",
    "        'NH': 'New Hampshire',\n",
    "        'NJ': 'New Jersey',\n",
    "        'NM': 'New Mexico',\n",
    "        'NV': 'Nevada',\n",
    "        'NY': 'New York',\n",
    "        'OH': 'Ohio',\n",
    "        'OK': 'Oklahoma',\n",
    "        'OR': 'Oregon',\n",
    "        'PA': 'Pennsylvania',\n",
    "        'PR': 'Puerto Rico',\n",
    "        'RI': 'Rhode Island',\n",
    "        'SC': 'South Carolina',\n",
    "        'SD': 'South Dakota',\n",
    "        'TN': 'Tennessee',\n",
    "        'TX': 'Texas',\n",
    "        'UT': 'Utah',\n",
    "        'VA': 'Virginia',\n",
    "        'VI': 'Virgin Islands',\n",
    "        'VT': 'Vermont',\n",
    "        'WA': 'Washington',\n",
    "        'WI': 'Wisconsin',\n",
    "        'WV': 'West Virginia',\n",
    "        'WY': 'Wyoming'\n",
    "}"
   ]
  },
  {
   "cell_type": "code",
   "execution_count": 92,
   "metadata": {
    "collapsed": true
   },
   "outputs": [],
   "source": [
    "df = pd.read_csv('../proc_data/Interns_combined.csv')\n",
    "college_state = df.College_State.value_counts()\n",
    "cdict = dict(zip(college_state.keys().str.strip(), college_state.values))\n",
    "\n",
    "cdict['DC'] += cdict['D.C.']\n",
    "del cdict['D.C.']\n",
    "\n",
    "#Split DC's students equally into MD and VA\n",
    "cdict['MD'] += cdict['DC']/2\n",
    "cdict['VA'] += cdict['DC']/2\n",
    "\n",
    "#\n",
    "d={}\n",
    "for item in st_dict.iteritems():\n",
    "    if item[0] in cdict:\n",
    "        d[item[1].lower()] = cdict[item[0]]\n",
    "    else:\n",
    "        d[item[1].lower()] = 0\n",
    "newdf = pd.DataFrame.from_dict(d, orient='index')\n",
    "newdf.columns = ['Count']\n",
    "newdf.reset_index(level=0, inplace=True)\n",
    "newdf.columns = ['State', 'Interns']\n",
    "nonstates = ['american samoa', 'national', 'northern mariana islands', 'puerto rico', 'guam', 'district of columbia','virgin islands']\n",
    "newdf = newdf[ ~newdf.State.isin(nonstates)]"
   ]
  },
  {
   "cell_type": "code",
   "execution_count": 98,
   "metadata": {
    "collapsed": false
   },
   "outputs": [],
   "source": [
    "newdf.to_csv('../proc_data/state_intern.csv', index=False)"
   ]
  },
  {
   "cell_type": "markdown",
   "metadata": {},
   "source": [
    "### Clean college enrollment data for R"
   ]
  },
  {
   "cell_type": "code",
   "execution_count": 168,
   "metadata": {
    "collapsed": false
   },
   "outputs": [],
   "source": [
    "df = pd.read_csv('../raw_data/2008_college_state_enrollment.csv', header=None)\n",
    "df.columns = ['State', 'College_Enr']\n",
    "count = df.College_Enr.apply(lambda x: int(\"\".join( [c for c in x if str.isalnum(c)] )))\n",
    "df['College_Enr'] = count\n",
    "df['State'] = df.State.apply(lambda x: x.lower())\n",
    "df.drop(df[df.State=='district of columbia'].index, inplace=True)\n",
    "total = sum(df.College_Enr)\n",
    "df['College_Frct'] = df.College_Enr.apply(lambda x: float(x)/total * 100)"
   ]
  },
  {
   "cell_type": "code",
   "execution_count": 169,
   "metadata": {
    "collapsed": false
   },
   "outputs": [],
   "source": [
    "interns = pd.read_csv('../proc_data/state_intern.csv')\n",
    "total = sum(interns.Interns)\n",
    "interns['Intern_Frct'] = interns.Interns.apply(lambda x: float(x)/total*100)\n",
    "newdf = df.merge(interns,how='left', on='State')\n",
    "newdf['Diff'] = newdf.Intern_Frct - newdf.College_Frct"
   ]
  },
  {
   "cell_type": "code",
   "execution_count": 170,
   "metadata": {
    "collapsed": false
   },
   "outputs": [],
   "source": [
    "newdf.to_csv('../proc_data/state_intern_fraction.csv', index=False)"
   ]
  },
  {
   "cell_type": "markdown",
   "metadata": {
    "collapsed": false
   },
   "source": [
    "### How many interns went to serve in the WH?"
   ]
  },
  {
   "cell_type": "code",
   "execution_count": 13,
   "metadata": {
    "collapsed": false
   },
   "outputs": [],
   "source": [
    "whemp = pd.read_csv('../../whitehouse_pay/raw_data/combined_wh_pay.csv')\n"
   ]
  },
  {
   "cell_type": "code",
   "execution_count": 32,
   "metadata": {
    "collapsed": false
   },
   "outputs": [],
   "source": [
    "a = set(whemp.Cleaned_Name.values)\n",
    "b = set(interns.Cleaned_Names.values)\n",
    "namelist = a&b"
   ]
  },
  {
   "cell_type": "code",
   "execution_count": 54,
   "metadata": {
    "collapsed": false
   },
   "outputs": [
    {
     "name": "stdout",
     "output_type": "stream",
     "text": [
      "total 2013 summer: 147\n",
      "intern to employee: 10\n",
      "percentage 6.80272108844\n"
     ]
    }
   ],
   "source": [
    "cont = interns[ interns.Cleaned_Names.isin(namelist)]\n",
    "total = len(interns[ (interns.Year == 2013) & (interns.Season=='summer')])\n",
    "print 'total 2013 summer:', total\n",
    "print 'intern to employee:', len(namelist)-1\n",
    "print 'percentage', (len(namelist)-1)/float(total)*100"
   ]
  },
  {
   "cell_type": "code",
   "execution_count": null,
   "metadata": {
    "collapsed": false
   },
   "outputs": [],
   "source": []
  },
  {
   "cell_type": "code",
   "execution_count": null,
   "metadata": {
    "collapsed": false
   },
   "outputs": [],
   "source": []
  },
  {
   "cell_type": "code",
   "execution_count": null,
   "metadata": {
    "collapsed": true
   },
   "outputs": [],
   "source": []
  }
 ],
 "metadata": {
  "kernelspec": {
   "display_name": "Python 2",
   "language": "python",
   "name": "python2"
  },
  "language_info": {
   "codemirror_mode": {
    "name": "ipython",
    "version": 2
   },
   "file_extension": ".py",
   "mimetype": "text/x-python",
   "name": "python",
   "nbconvert_exporter": "python",
   "pygments_lexer": "ipython2",
   "version": "2.7.9"
  }
 },
 "nbformat": 4,
 "nbformat_minor": 0
}
